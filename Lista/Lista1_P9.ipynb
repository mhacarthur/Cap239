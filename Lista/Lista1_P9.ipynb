{
 "cells": [
  {
   "cell_type": "code",
   "execution_count": 1,
   "metadata": {},
   "outputs": [],
   "source": [
    "import math\n",
    "import numpy as np\n",
    "import pandas as pd\n",
    "import matplotlib.pyplot as plt\n",
    "import matplotlib.mlab as mlab\n",
    "from scipy.stats import norm, kurtosis,skew\n",
    "from sklearn.cluster import KMeans\n",
    "from mpl_toolkits.mplot3d import Axes3D\n",
    "from scipy import stats, optimize\n",
    "import seaborn as sns\n",
    "\n",
    "%run ../funtion/Funciones.ipynb"
   ]
  },
  {
   "cell_type": "markdown",
   "metadata": {},
   "source": [
    "# Exercicio 9\n",
    "# Self-Organized Criticality (SOC)"
   ]
  },
  {
   "cell_type": "code",
   "execution_count": 2,
   "metadata": {},
   "outputs": [],
   "source": [
    "def SOC(data, n_bins=50): \n",
    "    n = len(data)\n",
    "    mean = np.mean(data)\n",
    "    var = np.var(data)\n",
    "    std = np.std(data)\n",
    "    #print(\"mean: \", mean, \" var: \", var)\n",
    "    \"\"\" Computa a Taxa Local de Flutuação para cada valor da ST \"\"\" \n",
    "    Gamma = []\n",
    "    \n",
    "    for i in range(0,n): #Gamma.append((data[i] - mean)/var) \n",
    "        Gamma.append((data[i] - mean)/std)\n",
    "    \n",
    "        \"\"\" Computa P[Psi_i] \"\"\"\n",
    "        # Retorna o número de elementos em cada bin, bem como os delimitare\n",
    "    counts, bins = np.histogram(Gamma, n_bins) \n",
    "    Prob_Gamma = []\n",
    "    for i in range(0, n_bins):\n",
    "        Prob_Gamma.append(counts[i]/n) #plt.plot(Gamma)\n",
    "    \n",
    "    return Prob_Gamma, counts"
   ]
  },
  {
   "cell_type": "markdown",
   "metadata": {},
   "source": [
    "## 30 Endogenas"
   ]
  },
  {
   "cell_type": "code",
   "execution_count": 3,
   "metadata": {},
   "outputs": [],
   "source": [
    "endogeno1 = np.zeros([8192,10])\n",
    "endogeno2 = np.zeros([8192,10])\n",
    "endogeno3 = np.zeros([8192,10])\n",
    "\n",
    "for t in range(10):\n",
    "    \n",
    "    y1,y2,y3 = 0,0,0\n",
    "    x1,y1 = pmodel (8192, 0.32, 0.4)\n",
    "    x2,y2 = pmodel (8192, 0.37, 0.4)\n",
    "    x3,y3 = pmodel (8192, 0.42, 0.4)\n",
    "    \n",
    "    endogeno1[:,t] = y1[:]\n",
    "    endogeno2[:,t] = y2[:]\n",
    "    endogeno3[:,t] = y3[:]"
   ]
  },
  {
   "cell_type": "markdown",
   "metadata": {},
   "source": [
    "## 30 Exogenas"
   ]
  },
  {
   "cell_type": "code",
   "execution_count": 4,
   "metadata": {},
   "outputs": [],
   "source": [
    "exogeno1 = np.zeros([8192,10])\n",
    "exogeno2 = np.zeros([8192,10])\n",
    "exogeno3 = np.zeros([8192,10])\n",
    "\n",
    "for t in range(10):\n",
    "    \n",
    "    y1,y2,y3 = 0,0,0\n",
    "    x1,y1 = pmodel (8192, 0.18, 0.7)\n",
    "    x2,y2 = pmodel (8192, 0.23, 0.7)\n",
    "    x3,y3 = pmodel (8192, 0.28, 0.7)\n",
    "    \n",
    "    exogeno1[:,t] = y1[:]\n",
    "    exogeno2[:,t] = y2[:]\n",
    "    exogeno3[:,t] = y3[:]"
   ]
  },
  {
   "cell_type": "markdown",
   "metadata": {},
   "source": [
    "## Normalizando as series"
   ]
  },
  {
   "cell_type": "code",
   "execution_count": 5,
   "metadata": {},
   "outputs": [],
   "source": [
    "endogeno1_norm,endogeno1_esta = Normalizar1(endogeno1)\n",
    "endogeno2_norm,endogeno2_esta = Normalizar1(endogeno2)\n",
    "endogeno3_norm,endogeno3_esta = Normalizar1(endogeno3)\n",
    "\n",
    "exogeno1_norm,exogeno1_esta = Normalizar1(exogeno1)\n",
    "exogeno2_norm,exogeno2_esta = Normalizar1(exogeno2)\n",
    "exogeno3_norm,exogeno3_esta = Normalizar1(exogeno3)"
   ]
  },
  {
   "cell_type": "code",
   "execution_count": 6,
   "metadata": {},
   "outputs": [
    {
     "name": "stderr",
     "output_type": "stream",
     "text": [
      "<ipython-input-6-09cb9e058e2e>:5: RuntimeWarning: divide by zero encountered in log10\n",
      "  log_Prob1 = np.log10(Prob_Gamma1)\n",
      "<ipython-input-6-09cb9e058e2e>:6: RuntimeWarning: divide by zero encountered in log10\n",
      "  log_counts1 = np.log10(counts1)\n"
     ]
    }
   ],
   "source": [
    "Prob_Gamma1,counts1 = SOC(endogeno1_norm)\n",
    "\n",
    "x1 = np.linspace(1, len(counts1), len(counts1))\n",
    "\n",
    "log_Prob1 = np.log10(Prob_Gamma1)\n",
    "log_counts1 = np.log10(counts1)\n",
    "\n",
    "p1 = np.array(Prob_Gamma1)\n",
    "p1 = p1[np.nonzero(p1)]\n",
    "c1 = counts1[np.nonzero(counts1)] \n",
    "\n",
    "log_p1 = np.log10(p1)\n",
    "log_c1 = np.log10(c1)\n",
    "\n",
    "a1 = (log_p1[np.argmax(c1)] - log_p1[np.argmin(c1)]) / (np.max(c1) - np.min(c1))\n",
    "b1 = log_Prob1[0]\n",
    "y1 = b1 * np.power(10, (a1*counts1))"
   ]
  },
  {
   "cell_type": "code",
   "execution_count": 7,
   "metadata": {},
   "outputs": [
    {
     "name": "stderr",
     "output_type": "stream",
     "text": [
      "<ipython-input-7-4eddb041a2ad>:5: RuntimeWarning: divide by zero encountered in log10\n",
      "  log_Prob2 = np.log10(Prob_Gamma2)\n",
      "<ipython-input-7-4eddb041a2ad>:6: RuntimeWarning: divide by zero encountered in log10\n",
      "  log_counts2 = np.log10(counts2)\n"
     ]
    }
   ],
   "source": [
    "Prob_Gamma2,counts2 = SOC(endogeno2_norm)\n",
    "\n",
    "x2 = np.linspace(2, len(counts2), len(counts2))\n",
    "\n",
    "log_Prob2 = np.log10(Prob_Gamma2)\n",
    "log_counts2 = np.log10(counts2)\n",
    "\n",
    "p2 = np.array(Prob_Gamma2)\n",
    "p2 = p2[np.nonzero(p2)]\n",
    "c2 = counts2[np.nonzero(counts2)] \n",
    "\n",
    "log_p2 = np.log10(p2)\n",
    "log_c2 = np.log10(c2)\n",
    "\n",
    "a2 = (log_p2[np.argmax(c2)] - log_p2[np.argmin(c2)]) / (np.max(c2) - np.min(c2))\n",
    "b2 = log_Prob2[0]\n",
    "y2 = b2 * np.power(20, (a2*counts2))"
   ]
  },
  {
   "cell_type": "code",
   "execution_count": 8,
   "metadata": {},
   "outputs": [
    {
     "name": "stderr",
     "output_type": "stream",
     "text": [
      "<ipython-input-8-3f7f22f3d59c>:5: RuntimeWarning: divide by zero encountered in log10\n",
      "  log_Prob3 = np.log10(Prob_Gamma3)\n",
      "<ipython-input-8-3f7f22f3d59c>:6: RuntimeWarning: divide by zero encountered in log10\n",
      "  log_counts3 = np.log10(counts3)\n"
     ]
    }
   ],
   "source": [
    "Prob_Gamma3,counts3 = SOC(endogeno3_norm)\n",
    "\n",
    "x3 = np.linspace(3, len(counts3), len(counts3))\n",
    "\n",
    "log_Prob3 = np.log10(Prob_Gamma3)\n",
    "log_counts3 = np.log10(counts3)\n",
    "\n",
    "p3 = np.array(Prob_Gamma3)\n",
    "p3 = p3[np.nonzero(p3)]\n",
    "c3 = counts3[np.nonzero(counts3)] \n",
    "\n",
    "log_p3 = np.log10(p3)\n",
    "log_c3 = np.log10(c3)\n",
    "\n",
    "a3 = (log_p3[np.argmax(c3)] - log_p3[np.argmin(c3)]) / (np.max(c3) - np.min(c3))\n",
    "b3 = log_Prob3[0]\n",
    "y3 = b3 * np.power(30, (a3*counts3))"
   ]
  },
  {
   "cell_type": "code",
   "execution_count": 9,
   "metadata": {},
   "outputs": [
    {
     "name": "stderr",
     "output_type": "stream",
     "text": [
      "<ipython-input-9-6ad5c7a3bc3c>:1: RuntimeWarning: divide by zero encountered in log10\n",
      "  plt.plot(np.log10(counts1), y1,'o--')\n",
      "<ipython-input-9-6ad5c7a3bc3c>:2: RuntimeWarning: divide by zero encountered in log10\n",
      "  plt.plot(np.log10(counts2), y2,'o--')\n",
      "<ipython-input-9-6ad5c7a3bc3c>:3: RuntimeWarning: divide by zero encountered in log10\n",
      "  plt.plot(np.log10(counts3), y3,'o--')\n"
     ]
    },
    {
     "data": {
      "image/png": "[encoded data removed]",
      "text/plain": [
       "<Figure size 432x288 with 1 Axes>"
      ]
     },
     "metadata": {
      "needs_background": "light"
     },
     "output_type": "display_data"
    }
   ],
   "source": [
    "plt.plot(np.log10(counts1), y1,'o--')\n",
    "plt.plot(np.log10(counts2), y2,'o--')\n",
    "plt.plot(np.log10(counts3), y3,'o--')\n",
    "plt.title('SOC', fontsize = 16) \n",
    "plt.grid()"
   ]
  },
  {
   "cell_type": "code",
   "execution_count": 10,
   "metadata": {},
   "outputs": [
    {
     "name": "stderr",
     "output_type": "stream",
     "text": [
      "<ipython-input-10-3f076fd20ded>:5: RuntimeWarning: divide by zero encountered in log10\n",
      "  log_Prob = np.log10(Prob_Gamma)\n",
      "<ipython-input-10-3f076fd20ded>:6: RuntimeWarning: divide by zero encountered in log10\n",
      "  log_counts = np.log10(counts)\n",
      "<ipython-input-10-3f076fd20ded>:19: RuntimeWarning: divide by zero encountered in log10\n",
      "  plt.plot(np.log10(counts), y,'o--')\n"
     ]
    },
    {
     "data": {
      "image/png": "[encoded data removed]",
      "text/plain": [
       "<Figure size 432x288 with 1 Axes>"
      ]
     },
     "metadata": {
      "needs_background": "light"
     },
     "output_type": "display_data"
    }
   ],
   "source": [
    "Prob_Gamma,counts = SOC(exogeno3_norm)\n",
    "\n",
    "x = np.linspace(1, len(counts), len(counts))\n",
    "\n",
    "log_Prob = np.log10(Prob_Gamma)\n",
    "log_counts = np.log10(counts)\n",
    "\n",
    "p = np.array(Prob_Gamma)\n",
    "p = p[np.nonzero(p)]\n",
    "c = counts[np.nonzero(counts)] \n",
    "\n",
    "log_p = np.log10(p)\n",
    "log_c = np.log10(c)\n",
    "\n",
    "a = (log_p[np.argmax(c)] - log_p[np.argmin(c)]) / (np.max(c) - np.min(c))\n",
    "b = log_Prob[0]\n",
    "y = b * np.power(10, (a*counts))\n",
    "\n",
    "plt.plot(np.log10(counts), y,'o--')\n",
    "plt.title('SOC', fontsize = 16) \n",
    "plt.grid()"
   ]
  }
 ],
 "metadata": {
  "kernelspec": {
   "display_name": "Python 3",
   "language": "python",
   "name": "python3"
  },
  "language_info": {
   "codemirror_mode": {
    "name": "ipython",
    "version": 3
   },
   "file_extension": ".py",
   "mimetype": "text/x-python",
   "name": "python",
   "nbconvert_exporter": "python",
   "pygments_lexer": "ipython3",
   "version": "3.8.2"
  }
 },
 "nbformat": 4,
 "nbformat_minor": 4
}
