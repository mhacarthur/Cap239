{
 "cells": [
  {
   "cell_type": "code",
   "execution_count": 3,
   "metadata": {},
   "outputs": [],
   "source": [
    "import math\n",
    "import numpy as np\n",
    "import pandas as pd\n",
    "import matplotlib.pyplot as plt\n",
    "import matplotlib.mlab as mlab\n",
    "from scipy.stats import norm, kurtosis,skew\n",
    "from sklearn.cluster import KMeans\n",
    "from mpl_toolkits.mplot3d import Axes3D\n",
    "from scipy import stats, optimize\n",
    "import seaborn as sns\n",
    "\n",
    "%run ../funtion/Funciones.ipynb"
   ]
  },
  {
   "cell_type": "markdown",
   "metadata": {},
   "source": [
    "# Exercicio 7\n",
    "# Singularity Multifractal Spectra (SMS), também conhecido como MDFA."
   ]
  },
  {
   "cell_type": "markdown",
   "metadata": {},
   "source": [
    "## Noise 80 series"
   ]
  },
  {
   "cell_type": "code",
   "execution_count": 2,
   "metadata": {},
   "outputs": [],
   "source": [
    "nn = np.arange(6,14)\n",
    "expo = np.zeros([len(nn)])\n",
    "\n",
    "for i in range(len(nn)):\n",
    "    expo[i] = 2**nn[i]"
   ]
  },
  {
   "cell_type": "code",
   "execution_count": 3,
   "metadata": {},
   "outputs": [],
   "source": [
    "noise64 = np.zeros([int(expo[0]),10])\n",
    "noise128 = np.zeros([int(expo[1]),10])\n",
    "noise256 = np.zeros([int(expo[2]),10])\n",
    "noise512 = np.zeros([int(expo[3]),10])\n",
    "noise1024 = np.zeros([int(expo[4]),10])\n",
    "noise2048 = np.zeros([int(expo[5]),10])\n",
    "noise4096 = np.zeros([int(expo[6]),10])\n",
    "noise8192 = np.zeros([int(expo[7]),10])"
   ]
  },
  {
   "cell_type": "code",
   "execution_count": 4,
   "metadata": {},
   "outputs": [],
   "source": [
    "for t in range(10):\n",
    "    a = grng1(64)\n",
    "    b = grng1(128)\n",
    "    c = grng1(256)\n",
    "    d = grng1(512)\n",
    "    e = grng1(1024)\n",
    "    f = grng1(2048)\n",
    "    g = grng1(4096)\n",
    "    h = grng1(8192)\n",
    "    \n",
    "    noise64[:,t] = a[:,0]\n",
    "    noise128[:,t] = b[:,0] \n",
    "    noise256[:,t] = c[:,0] \n",
    "    noise512[:,t] = d[:,0] \n",
    "    noise1024[:,t] = e[:,0] \n",
    "    noise2048[:,t] = f[:,0] \n",
    "    noise4096[:,t] = g[:,0] \n",
    "    noise8192[:,t] = h[:,0] "
   ]
  },
  {
   "cell_type": "code",
   "execution_count": 5,
   "metadata": {},
   "outputs": [],
   "source": [
    "noise64_norm,noise64_esta = Normalizar1(noise64)\n",
    "noise128_norm,noise128_esta = Normalizar1(noise128)\n",
    "noise256_norm,noise256_esta = Normalizar1(noise256)\n",
    "noise512_norm,noise512_esta = Normalizar1(noise512)\n",
    "noise1024_norm,noise1024_esta = Normalizar1(noise1024)\n",
    "noise2048_norm,noise2048_esta = Normalizar1(noise2048)\n",
    "noise4096_norm,noise4096_esta = Normalizar1(noise4096)\n",
    "noise8192_norm,noise8192_esta = Normalizar1(noise8192)"
   ]
  },
  {
   "cell_type": "code",
   "execution_count": 6,
   "metadata": {},
   "outputs": [],
   "source": [
    "noise = [noise64_esta,noise128_esta,noise256_esta,noise512_esta,noise1024_esta,\\\n",
    "          noise2048_esta,noise4096_esta,noise8192_esta]\n",
    "frames_noise = pd.concat(noise,ignore_index=True)\n",
    "\n",
    "frames_noise = frames_noise.drop(['Prom','Vari','Cor'],axis=1)"
   ]
  },
  {
   "cell_type": "code",
   "execution_count": 55,
   "metadata": {},
   "outputs": [],
   "source": [
    "Psi_64 = np.zeros([10])\n",
    "for i in range(10):\n",
    "    timeMeasure,dataMeasure,scales,stats,q = getMSSByUpscaling(noise64_norm[:,i])\n",
    "    Psi64 = (stats['LH_max'] - stats['LH_min'])/stats['LH_max']\n",
    "    Psi_64[i] = Psi64\n",
    "    \n",
    "Psi_128 = np.zeros([10])\n",
    "for i in range(10):\n",
    "    timeMeasure,dataMeasure,scales,stats,q = getMSSByUpscaling(noise128_norm[:,i])\n",
    "    Psi128 = (stats['LH_max'] - stats['LH_min'])/stats['LH_max']\n",
    "    Psi_128[i] = Psi128\n",
    "    \n",
    "Psi_256 = np.zeros([10])\n",
    "for i in range(10):\n",
    "    timeMeasure,dataMeasure,scales,stats,q = getMSSByUpscaling(noise256_norm[:,i])\n",
    "    Psi256 = (stats['LH_max'] - stats['LH_min'])/stats['LH_max']\n",
    "    Psi_256[i] = Psi256\n",
    "    \n",
    "Psi_512 = np.zeros([10])\n",
    "for i in range(10):\n",
    "    timeMeasure,dataMeasure,scales,stats,q = getMSSByUpscaling(noise512_norm[:,i])\n",
    "    Psi512 = (stats['LH_max'] - stats['LH_min'])/stats['LH_max']\n",
    "    Psi_512[i] = Psi512\n",
    "    \n",
    "Psi_1024 = np.zeros([10])\n",
    "for i in range(10):\n",
    "    timeMeasure,dataMeasure,scales,stats,q = getMSSByUpscaling(noise1024_norm[:,i])\n",
    "    Psi1024 = (stats['LH_max'] - stats['LH_min'])/stats['LH_max']\n",
    "    Psi_1024[i] = Psi1024\n",
    "    \n",
    "Psi_2048 = np.zeros([10])\n",
    "for i in range(10):\n",
    "    timeMeasure,dataMeasure,scales,stats,q = getMSSByUpscaling(noise2048_norm[:,i])\n",
    "    Psi2048 = (stats['LH_max'] - stats['LH_min'])/stats['LH_max']\n",
    "    Psi_2048[i] = Psi2048\n",
    "    \n",
    "Psi_4096 = np.zeros([10])\n",
    "for i in range(10):\n",
    "    timeMeasure,dataMeasure,scales,stats,q = getMSSByUpscaling(noise4096_norm[:,i])\n",
    "    Psi4096 = (stats['LH_max'] - stats['LH_min'])/stats['LH_max']\n",
    "    Psi_4096[i] = Psi4096\n",
    "    \n",
    "Psi_8192 = np.zeros([10])\n",
    "for i in range(10):\n",
    "    timeMeasure,dataMeasure,scales,stats,q = getMSSByUpscaling(noise8192_norm[:,i])\n",
    "    Psi8192 = (stats['LH_max'] - stats['LH_min'])/stats['LH_max']\n",
    "    Psi_8192[i] = Psi8192"
   ]
  },
  {
   "cell_type": "code",
   "execution_count": 78,
   "metadata": {},
   "outputs": [],
   "source": [
    "noise64_esta = noise64_esta.drop(['Cor'],axis=1)\n",
    "noise64_esta['Psi'] = Psi_64\n",
    "\n",
    "noise128_esta = noise128_esta.drop(['Cor'],axis=1)\n",
    "noise128_esta['Psi'] = Psi_128\n",
    "\n",
    "noise256_esta = noise256_esta.drop(['Cor'],axis=1)\n",
    "noise256_esta['Psi'] = Psi_256\n",
    "\n",
    "noise512_esta = noise512_esta.drop(['Cor'],axis=1)\n",
    "noise512_esta['Psi'] = Psi_512\n",
    "\n",
    "noise1024_esta = noise1024_esta.drop(['Cor'],axis=1)\n",
    "noise1024_esta['Psi'] = Psi_1024\n",
    "\n",
    "noise2048_esta = noise2048_esta.drop(['Cor'],axis=1)\n",
    "noise2048_esta['Psi'] = Psi_2048\n",
    "\n",
    "noise4096_esta = noise4096_esta.drop(['Cor'],axis=1)\n",
    "noise4096_esta['Psi'] = Psi_4096\n",
    "\n",
    "noise8192_esta = noise8192_esta.drop(['Cor'],axis=1)\n",
    "noise8192_esta['Psi'] =Psi_8192"
   ]
  },
  {
   "cell_type": "markdown",
   "metadata": {},
   "source": [
    "## ColorNoise 60 series"
   ]
  },
  {
   "cell_type": "code",
   "execution_count": 44,
   "metadata": {},
   "outputs": [],
   "source": [
    "white_noise = np.zeros([8192,20])\n",
    "pink_noise = np.zeros([8192,20])\n",
    "red_noise = np.zeros([8192,20])\n",
    "\n",
    "for t in range(20):\n",
    "    white_noise[:,t] = powerlaw_psd_gaussian(0,8192)\n",
    "    pink_noise[:,t] = powerlaw_psd_gaussian(1,8192)\n",
    "    red_noise[:,t] = powerlaw_psd_gaussian(2,8192)"
   ]
  },
  {
   "cell_type": "code",
   "execution_count": 46,
   "metadata": {},
   "outputs": [],
   "source": [
    "white_norm,white_esta = Normalizar1(white_noise)\n",
    "pink_norm,pink_esta = Normalizar1(pink_noise)\n",
    "red_norm,red_esta = Normalizar1(red_noise)"
   ]
  },
  {
   "cell_type": "code",
   "execution_count": 59,
   "metadata": {},
   "outputs": [],
   "source": [
    "Psi_white = np.zeros([20])\n",
    "for i in range(20):\n",
    "    timeMeasure,dataMeasure,scales,stats,q = getMSSByUpscaling(white_norm[:,i])\n",
    "    Psiwhite = (stats['LH_max'] - stats['LH_min'])/stats['LH_max']\n",
    "    Psi_white[i] = Psiwhite\n",
    "\n",
    "Psi_pink = np.zeros([20])\n",
    "for i in range(20):\n",
    "    timeMeasure,dataMeasure,scales,stats,q = getMSSByUpscaling(pink_norm[:,i])\n",
    "    Psipink = (stats['LH_max'] - stats['LH_min'])/stats['LH_max']\n",
    "    Psi_pink[i] = Psipink\n",
    "    \n",
    "Psi_red = np.zeros([20])\n",
    "for i in range(10):\n",
    "    timeMeasure,dataMeasure,scales,stats,q = getMSSByUpscaling(red_norm[:,i])\n",
    "    Psired = (stats['LH_max'] - stats['LH_min'])/stats['LH_max']\n",
    "    Psi_red[i] = Psired"
   ]
  },
  {
   "cell_type": "code",
   "execution_count": 76,
   "metadata": {},
   "outputs": [],
   "source": [
    "white_esta = white_esta.drop(['Group','Cor'],axis=1)\n",
    "white_esta['Group'] = 'white'\n",
    "white_esta['Psi'] = Psi_white\n",
    "\n",
    "pink_esta = pink_esta.drop(['Group','Cor'],axis=1)\n",
    "pink_esta['Group'] = 'pink'\n",
    "pink_esta['Psi'] = Psi_pink\n",
    "\n",
    "red_esta = red_esta.drop(['Group','Cor'],axis=1)\n",
    "red_esta['Group'] = 'red'\n",
    "red_esta['Psi'] = Psi_red"
   ]
  },
  {
   "cell_type": "markdown",
   "metadata": {},
   "source": [
    "## PmNoise 60 series"
   ]
  },
  {
   "cell_type": "code",
   "execution_count": 2,
   "metadata": {},
   "outputs": [
    {
     "ename": "NameError",
     "evalue": "name 'np' is not defined",
     "output_type": "error",
     "traceback": [
      "\u001b[0;31m---------------------------------------------------------------------------\u001b[0m",
      "\u001b[0;31mNameError\u001b[0m                                 Traceback (most recent call last)",
      "\u001b[0;32m<ipython-input-2-812bcdc815d7>\u001b[0m in \u001b[0;36m<module>\u001b[0;34m\u001b[0m\n\u001b[0;32m----> 1\u001b[0;31m \u001b[0mendogeno1\u001b[0m \u001b[0;34m=\u001b[0m \u001b[0mnp\u001b[0m\u001b[0;34m.\u001b[0m\u001b[0mzeros\u001b[0m\u001b[0;34m(\u001b[0m\u001b[0;34m[\u001b[0m\u001b[0;36m8192\u001b[0m\u001b[0;34m,\u001b[0m\u001b[0;36m20\u001b[0m\u001b[0;34m]\u001b[0m\u001b[0;34m)\u001b[0m\u001b[0;34m\u001b[0m\u001b[0;34m\u001b[0m\u001b[0m\n\u001b[0m\u001b[1;32m      2\u001b[0m \u001b[0mendogeno2\u001b[0m \u001b[0;34m=\u001b[0m \u001b[0mnp\u001b[0m\u001b[0;34m.\u001b[0m\u001b[0mzeros\u001b[0m\u001b[0;34m(\u001b[0m\u001b[0;34m[\u001b[0m\u001b[0;36m8192\u001b[0m\u001b[0;34m,\u001b[0m\u001b[0;36m20\u001b[0m\u001b[0;34m]\u001b[0m\u001b[0;34m)\u001b[0m\u001b[0;34m\u001b[0m\u001b[0;34m\u001b[0m\u001b[0m\n\u001b[1;32m      3\u001b[0m \u001b[0mendogeno3\u001b[0m \u001b[0;34m=\u001b[0m \u001b[0mnp\u001b[0m\u001b[0;34m.\u001b[0m\u001b[0mzeros\u001b[0m\u001b[0;34m(\u001b[0m\u001b[0;34m[\u001b[0m\u001b[0;36m8192\u001b[0m\u001b[0;34m,\u001b[0m\u001b[0;36m20\u001b[0m\u001b[0;34m]\u001b[0m\u001b[0;34m)\u001b[0m\u001b[0;34m\u001b[0m\u001b[0;34m\u001b[0m\u001b[0m\n\u001b[1;32m      4\u001b[0m \u001b[0;34m\u001b[0m\u001b[0m\n\u001b[1;32m      5\u001b[0m \u001b[0;32mfor\u001b[0m \u001b[0mt\u001b[0m \u001b[0;32min\u001b[0m \u001b[0mrange\u001b[0m\u001b[0;34m(\u001b[0m\u001b[0;36m20\u001b[0m\u001b[0;34m)\u001b[0m\u001b[0;34m:\u001b[0m\u001b[0;34m\u001b[0m\u001b[0;34m\u001b[0m\u001b[0m\n",
      "\u001b[0;31mNameError\u001b[0m: name 'np' is not defined"
     ]
    }
   ],
   "source": [
    "endogeno1 = np.zeros([8192,10])\n",
    "endogeno2 = np.zeros([8192,10])\n",
    "endogeno3 = np.zeros([8192,10])\n",
    "\n",
    "for t in range(10):\n",
    "    \n",
    "    y1,y2,y3 = 0,0,0\n",
    "    x1,y1 = pmodel (8192, 0.32, 0.4)\n",
    "    x2,y2 = pmodel (8192, 0.37, 0.4)\n",
    "    x3,y3 = pmodel (8192, 0.42, 0.4)\n",
    "    \n",
    "    endogeno1[:,t] = y1[:]\n",
    "    endogeno2[:,t] = y2[:]\n",
    "    endogeno3[:,t] = y3[:]"
   ]
  },
  {
   "cell_type": "code",
   "execution_count": 57,
   "metadata": {},
   "outputs": [],
   "source": [
    "exogeno1 = np.zeros([8192,10])\n",
    "exogeno2 = np.zeros([8192,10])\n",
    "exogeno3 = np.zeros([8192,10])\n",
    "\n",
    "for t in range(10):\n",
    "    \n",
    "    y1,y2,y3 = 0,0,0\n",
    "    x1,y1 = pmodel (8192, 0.18, 0.7)\n",
    "    x2,y2 = pmodel (8192, 0.23, 0.7)\n",
    "    x3,y3 = pmodel (8192, 0.28, 0.7)\n",
    "    \n",
    "    exogeno1[:,t] = y1[:]\n",
    "    exogeno2[:,t] = y2[:]\n",
    "    exogeno3[:,t] = y3[:]"
   ]
  },
  {
   "cell_type": "code",
   "execution_count": 58,
   "metadata": {},
   "outputs": [],
   "source": [
    "endogeno1_norm,endogeno1_esta = Normalizar1(endogeno1)\n",
    "endogeno2_norm,endogeno2_esta = Normalizar1(endogeno2)\n",
    "endogeno3_norm,endogeno3_esta = Normalizar1(endogeno3)\n",
    "\n",
    "exogeno1_norm,exogeno1_esta = Normalizar1(exogeno1)\n",
    "exogeno2_norm,exogeno2_esta = Normalizar1(exogeno2)\n",
    "exogeno3_norm,exogeno3_esta = Normalizar1(exogeno3)"
   ]
  },
  {
   "cell_type": "code",
   "execution_count": 60,
   "metadata": {},
   "outputs": [],
   "source": [
    "Psi_endogeno1 = np.zeros([10])\n",
    "for i in range(10):\n",
    "    timeMeasure,dataMeasure,scales,stats,q = getMSSByUpscaling(endogeno1_norm[:,i])\n",
    "    Psiendogeno1 = (stats['LH_max'] - stats['LH_min'])/stats['LH_max']\n",
    "    Psi_endogeno1[i] = Psiendogeno1\n",
    "    \n",
    "Psi_endogeno2 = np.zeros([10])\n",
    "for i in range(10):\n",
    "    timeMeasure,dataMeasure,scales,stats,q = getMSSByUpscaling(endogeno2_norm[:,i])\n",
    "    Psiendogeno2 = (stats['LH_max'] - stats['LH_min'])/stats['LH_max']\n",
    "    Psi_endogeno2[i] = Psiendogeno2\n",
    "    \n",
    "Psi_endogeno3 = np.zeros([10])\n",
    "for i in range(10):\n",
    "    timeMeasure,dataMeasure,scales,stats,q = getMSSByUpscaling(endogeno3_norm[:,i])\n",
    "    Psiendogeno3 = (stats['LH_max'] - stats['LH_min'])/stats['LH_max']\n",
    "    Psi_endogeno3[i] = Psiendogeno3"
   ]
  },
  {
   "cell_type": "code",
   "execution_count": 61,
   "metadata": {},
   "outputs": [],
   "source": [
    "Psi_exogeno1 = np.zeros([10])\n",
    "for i in range(10):\n",
    "    timeMeasure,dataMeasure,scales,stats,q = getMSSByUpscaling(exogeno1_norm[:,i])\n",
    "    Psiexogeno1 = (stats['LH_max'] - stats['LH_min'])/stats['LH_max']\n",
    "    Psi_exogeno1[i] = Psiexogeno1\n",
    "    \n",
    "Psi_exogeno2 = np.zeros([10])\n",
    "for i in range(10):\n",
    "    timeMeasure,dataMeasure,scales,stats,q = getMSSByUpscaling(exogeno2_norm[:,i])\n",
    "    Psiexogeno2 = (stats['LH_max'] - stats['LH_min'])/stats['LH_max']\n",
    "    Psi_exogeno2[i] = Psiexogeno2\n",
    "    \n",
    "Psi_exogeno3 = np.zeros([10])\n",
    "for i in range(10):\n",
    "    timeMeasure,dataMeasure,scales,stats,q = getMSSByUpscaling(exogeno3_norm[:,i])\n",
    "    Psiexogeno3 = (stats['LH_max'] - stats['LH_min'])/stats['LH_max']\n",
    "    Psi_exogeno3[i] = Psiexogeno3"
   ]
  },
  {
   "cell_type": "code",
   "execution_count": 75,
   "metadata": {},
   "outputs": [],
   "source": [
    "endogeno1_esta = endogeno1_esta.drop(['Group','Cor'],axis=1)\n",
    "endogeno1_esta['Group'] = 'Endogeno'\n",
    "endogeno1_esta['Psi'] = Psi_endogeno1\n",
    "\n",
    "endogeno2_esta = endogeno2_esta.drop(['Group','Cor'],axis=1)\n",
    "endogeno2_esta['Group'] = 'Endogeno'\n",
    "endogeno2_esta['Psi'] = Psi_endogeno2\n",
    "\n",
    "endogeno3_esta = endogeno3_esta.drop(['Group','Cor'],axis=1)\n",
    "endogeno3_esta['Group'] = 'Endogeno'\n",
    "endogeno3_esta['Psi'] = Psi_endogeno3\n",
    "\n",
    "exogeno1_esta = exogeno1_esta.drop(['Group','Cor'],axis=1)\n",
    "exogeno1_esta['Group'] = 'exogeno'\n",
    "exogeno1_esta['Psi'] = Psi_exogeno1\n",
    "\n",
    "exogeno2_esta = exogeno2_esta.drop(['Group','Cor'],axis=1)\n",
    "exogeno2_esta['Group'] = 'exogeno'\n",
    "exogeno2_esta['Psi'] = Psi_exogeno2\n",
    "\n",
    "exogeno3_esta = exogeno3_esta.drop(['Group','Cor'],axis=1)\n",
    "exogeno3_esta['Group'] = 'exogeno'\n",
    "exogeno3_esta['Psi'] = Psi_exogeno3"
   ]
  },
  {
   "cell_type": "markdown",
   "metadata": {},
   "source": [
    "## ChaosNoise 60 series"
   ]
  },
  {
   "cell_type": "code",
   "execution_count": 62,
   "metadata": {},
   "outputs": [],
   "source": [
    "rho = np.linspace(3.81,4.0,30)\n",
    "tau = 1.1\n",
    "N = 511\n",
    "\n",
    "logistica = np.zeros([N+1,30])\n",
    "\n",
    "for t in range(30):\n",
    "    \n",
    "    xtemp = 0.001\n",
    "    ytemp = 0.001\n",
    "    \n",
    "    x = [xtemp]\n",
    "    y = [ytemp]\n",
    "    \n",
    "    for i in range(N):\n",
    "        xtemp, ytemp = Logistic(rho[t],tau,xtemp,ytemp)\n",
    "        x.append( xtemp )\n",
    "        y.append( ytemp )\n",
    "        \n",
    "    logistica[:,t] = x"
   ]
  },
  {
   "cell_type": "code",
   "execution_count": 63,
   "metadata": {},
   "outputs": [],
   "source": [
    "a = np.linspace(1.35,1.40,30)\n",
    "b = np.linspace(0.21,0.30,30)\n",
    "\n",
    "N = 511\n",
    "\n",
    "henon = np.zeros([N+1,30])\n",
    "\n",
    "for t in range(30):\n",
    "\n",
    "    xtemp = 0.1\n",
    "    ytemp = 0.3\n",
    "\n",
    "    x = [xtemp]\n",
    "    y = [ytemp]\n",
    "\n",
    "    for i in range(N):\n",
    "        xtemp, ytemp = HenonMap(a[t],b[t],xtemp,ytemp)\n",
    "        x.append( xtemp )\n",
    "        y.append( ytemp )\n",
    "        \n",
    "    henon[:,t] = y"
   ]
  },
  {
   "cell_type": "code",
   "execution_count": 69,
   "metadata": {},
   "outputs": [],
   "source": [
    "logistica_norm,logistica_esta = Normalizar1(logistica)\n",
    "henon_norm,henon_esta = Normalizar1(henon)"
   ]
  },
  {
   "cell_type": "code",
   "execution_count": 65,
   "metadata": {},
   "outputs": [],
   "source": [
    "Psi_logistica = np.zeros([30])\n",
    "for i in range(30):\n",
    "    timeMeasure,dataMeasure,scales,stats,q = getMSSByUpscaling(logistica_norm[:,i])\n",
    "    Psilogistica = (stats['LH_max'] - stats['LH_min'])/stats['LH_max']\n",
    "    Psi_logistica[i] = Psilogistica\n",
    "    \n",
    "Psi_henon = np.zeros([30])\n",
    "for i in range(30):\n",
    "    timeMeasure,dataMeasure,scales,stats,q = getMSSByUpscaling(henon_norm[:,i])\n",
    "    Psihenon = (stats['LH_max'] - stats['LH_min'])/stats['LH_max']\n",
    "    Psi_henon[i] = Psihenon"
   ]
  },
  {
   "cell_type": "code",
   "execution_count": 70,
   "metadata": {},
   "outputs": [],
   "source": [
    "logistica_esta = logistica_esta.drop(['Group','Cor'],axis=1)\n",
    "logistica_esta['Group'] = 'Logistica'\n",
    "logistica_esta['Psi'] = Psi_logistica\n",
    "\n",
    "henon_esta = henon_esta.drop(['Group','Cor'],axis=1)\n",
    "henon_esta['Group'] = 'Henon'\n",
    "henon_esta['Psi'] = Psi_henon"
   ]
  },
  {
   "cell_type": "markdown",
   "metadata": {},
   "source": [
    "## Order Data"
   ]
  },
  {
   "cell_type": "markdown",
   "metadata": {},
   "source": [
    "### Noise"
   ]
  },
  {
   "cell_type": "code",
   "execution_count": 80,
   "metadata": {},
   "outputs": [],
   "source": [
    "noise = [noise64_esta,noise128_esta,noise256_esta,noise512_esta,noise1024_esta,\\\n",
    "          noise2048_esta,noise4096_esta,noise8192_esta]\n",
    "frames_noise = pd.concat(noise,ignore_index=True)\n",
    "\n",
    "frames_noise = frames_noise.drop(['Prom','Vari'],axis=1)"
   ]
  },
  {
   "cell_type": "markdown",
   "metadata": {},
   "source": [
    "### Color Noise"
   ]
  },
  {
   "cell_type": "code",
   "execution_count": 83,
   "metadata": {},
   "outputs": [],
   "source": [
    "color = [white_esta,pink_esta,red_esta]\n",
    "frames_color = pd.concat(color,ignore_index=True)\n",
    "\n",
    "frames_color = frames_color.drop(['Prom','Vari'],axis=1)"
   ]
  },
  {
   "cell_type": "markdown",
   "metadata": {},
   "source": [
    "### Pm Noise"
   ]
  },
  {
   "cell_type": "code",
   "execution_count": 84,
   "metadata": {},
   "outputs": [],
   "source": [
    "pm = [endogeno1_esta,endogeno2_esta,endogeno3_esta,exogeno1_esta,exogeno2_esta,exogeno3_esta]\n",
    "frames_pm = pd.concat(pm,ignore_index=True)\n",
    "\n",
    "frames_pm = frames_pm.drop(['Prom','Vari'],axis=1)"
   ]
  },
  {
   "cell_type": "markdown",
   "metadata": {},
   "source": [
    "### Chaos Noise"
   ]
  },
  {
   "cell_type": "code",
   "execution_count": 85,
   "metadata": {},
   "outputs": [],
   "source": [
    "chaos = [logistica_esta,henon_esta]\n",
    "frames_chaos = pd.concat(chaos,ignore_index=True)\n",
    "\n",
    "frames_chaos = frames_chaos.drop(['Prom','Vari'],axis=1)"
   ]
  },
  {
   "cell_type": "code",
   "execution_count": 86,
   "metadata": {},
   "outputs": [
    {
     "data": {
      "text/html": [
       "<div>\n",
       "<style scoped>\n",
       "    .dataframe tbody tr th:only-of-type {\n",
       "        vertical-align: middle;\n",
       "    }\n",
       "\n",
       "    .dataframe tbody tr th {\n",
       "        vertical-align: top;\n",
       "    }\n",
       "\n",
       "    .dataframe thead th {\n",
       "        text-align: right;\n",
       "    }\n",
       "</style>\n",
       "<table border=\"1\" class=\"dataframe\">\n",
       "  <thead>\n",
       "    <tr style=\"text-align: right;\">\n",
       "      <th></th>\n",
       "      <th>Group</th>\n",
       "      <th>Asim</th>\n",
       "      <th>Curt</th>\n",
       "      <th>Psi</th>\n",
       "    </tr>\n",
       "  </thead>\n",
       "  <tbody>\n",
       "    <tr>\n",
       "      <th>0</th>\n",
       "      <td>64</td>\n",
       "      <td>0.222952</td>\n",
       "      <td>-0.807246</td>\n",
       "      <td>0.430930</td>\n",
       "    </tr>\n",
       "    <tr>\n",
       "      <th>1</th>\n",
       "      <td>64</td>\n",
       "      <td>-0.606736</td>\n",
       "      <td>-0.890872</td>\n",
       "      <td>0.537734</td>\n",
       "    </tr>\n",
       "    <tr>\n",
       "      <th>2</th>\n",
       "      <td>64</td>\n",
       "      <td>-0.559767</td>\n",
       "      <td>-0.760767</td>\n",
       "      <td>0.443942</td>\n",
       "    </tr>\n",
       "    <tr>\n",
       "      <th>3</th>\n",
       "      <td>64</td>\n",
       "      <td>-0.488247</td>\n",
       "      <td>-0.051580</td>\n",
       "      <td>0.544633</td>\n",
       "    </tr>\n",
       "    <tr>\n",
       "      <th>4</th>\n",
       "      <td>64</td>\n",
       "      <td>-0.343404</td>\n",
       "      <td>-0.457876</td>\n",
       "      <td>0.377783</td>\n",
       "    </tr>\n",
       "    <tr>\n",
       "      <th>...</th>\n",
       "      <td>...</td>\n",
       "      <td>...</td>\n",
       "      <td>...</td>\n",
       "      <td>...</td>\n",
       "    </tr>\n",
       "    <tr>\n",
       "      <th>75</th>\n",
       "      <td>8192</td>\n",
       "      <td>0.346170</td>\n",
       "      <td>-1.397087</td>\n",
       "      <td>0.379477</td>\n",
       "    </tr>\n",
       "    <tr>\n",
       "      <th>76</th>\n",
       "      <td>8192</td>\n",
       "      <td>-0.068090</td>\n",
       "      <td>-0.831892</td>\n",
       "      <td>0.390091</td>\n",
       "    </tr>\n",
       "    <tr>\n",
       "      <th>77</th>\n",
       "      <td>8192</td>\n",
       "      <td>-0.475862</td>\n",
       "      <td>-0.874030</td>\n",
       "      <td>0.328330</td>\n",
       "    </tr>\n",
       "    <tr>\n",
       "      <th>78</th>\n",
       "      <td>8192</td>\n",
       "      <td>0.042365</td>\n",
       "      <td>-0.443813</td>\n",
       "      <td>0.406025</td>\n",
       "    </tr>\n",
       "    <tr>\n",
       "      <th>79</th>\n",
       "      <td>8192</td>\n",
       "      <td>-0.355349</td>\n",
       "      <td>-0.531212</td>\n",
       "      <td>0.362530</td>\n",
       "    </tr>\n",
       "  </tbody>\n",
       "</table>\n",
       "<p>80 rows × 4 columns</p>\n",
       "</div>"
      ],
      "text/plain": [
       "   Group      Asim      Curt       Psi\n",
       "0     64  0.222952 -0.807246  0.430930\n",
       "1     64 -0.606736 -0.890872  0.537734\n",
       "2     64 -0.559767 -0.760767  0.443942\n",
       "3     64 -0.488247 -0.051580  0.544633\n",
       "4     64 -0.343404 -0.457876  0.377783\n",
       "..   ...       ...       ...       ...\n",
       "75  8192  0.346170 -1.397087  0.379477\n",
       "76  8192 -0.068090 -0.831892  0.390091\n",
       "77  8192 -0.475862 -0.874030  0.328330\n",
       "78  8192  0.042365 -0.443813  0.406025\n",
       "79  8192 -0.355349 -0.531212  0.362530\n",
       "\n",
       "[80 rows x 4 columns]"
      ]
     },
     "execution_count": 86,
     "metadata": {},
     "output_type": "execute_result"
    }
   ],
   "source": [
    "frames_noise"
   ]
  },
  {
   "cell_type": "markdown",
   "metadata": {},
   "source": [
    "## Plotando "
   ]
  },
  {
   "cell_type": "code",
   "execution_count": 101,
   "metadata": {},
   "outputs": [
    {
     "data": {
      "text/plain": [
       "<matplotlib.legend.Legend at 0x7efd1b659fa0>"
      ]
     },
     "execution_count": 101,
     "metadata": {},
     "output_type": "execute_result"
    },
    {
     "data": {
      "image/png": "[encoded data removed]",
      "text/plain": [
       "<Figure size 1200x1200 with 4 Axes>"
      ]
     },
     "metadata": {
      "needs_background": "light"
     },
     "output_type": "display_data"
    }
   ],
   "source": [
    "fig1 = plt.figure(figsize=(12,12),dpi=100)\n",
    "\n",
    "plt.subplot(2,2,1)\n",
    "plt.plot(frames_noise.Asim[frames_noise.Group == '64'],\n",
    "         frames_noise.Psi[frames_noise.Group == '64'],'o',label = '64')\n",
    "plt.plot(frames_noise.Asim[frames_noise.Group == '128'],\n",
    "         frames_noise.Psi[frames_noise.Group == '128'],'o',label = '128')\n",
    "plt.plot(frames_noise.Asim[frames_noise.Group == '256'],\n",
    "         frames_noise.Psi[frames_noise.Group == '256'],'o',label = '256')\n",
    "plt.plot(frames_noise.Asim[frames_noise.Group == '512'],\n",
    "         frames_noise.Psi[frames_noise.Group == '512'],'o',label = '512')\n",
    "plt.plot(frames_noise.Asim[frames_noise.Group == '1024'],\n",
    "         frames_noise.Psi[frames_noise.Group == '1024'],'*',label = '1024')\n",
    "plt.plot(frames_noise.Asim[frames_noise.Group == '2048'],\n",
    "         frames_noise.Psi[frames_noise.Group == '2048'],'*',label = '2048')\n",
    "plt.plot(frames_noise.Asim[frames_noise.Group == '4096'],\n",
    "         frames_noise.Psi[frames_noise.Group == '4096'],'*',label = '4096')\n",
    "plt.plot(frames_noise.Asim[frames_noise.Group == '8192'],\n",
    "         frames_noise.Psi[frames_noise.Group == '8192'],'*',label = '8192')\n",
    "plt.title('Noise',fontsize=14)\n",
    "plt.ylim(-0.3,1)\n",
    "#plt.xlim(-2,27)\n",
    "plt.ylabel('Psi')\n",
    "plt.grid('on',linestyle='--')\n",
    "plt.legend()\n",
    "\n",
    "plt.subplot(2,2,2)\n",
    "plt.plot(frames_color.Asim[frames_color.Group == 'pink'],\n",
    "           frames_color.Psi[frames_color.Group == 'pink'],'o',label = 'pink')\n",
    "plt.plot(frames_color.Asim[frames_color.Group == 'red'],\n",
    "           frames_color.Psi[frames_color.Group == 'red'],'o',label = 'red')\n",
    "plt.plot(frames_color.Asim[frames_color.Group == 'white'],\n",
    "           frames_color.Psi[frames_color.Group == 'white'],'o',label = 'white')\n",
    "plt.title('Color Noise',fontsize=14)\n",
    "plt.ylim(-0.3,1)\n",
    "#plt.xlim(-2,27)\n",
    "plt.grid('on',linestyle='--')\n",
    "plt.legend()\n",
    "\n",
    "plt.subplot(2,2,3)\n",
    "plt.plot(frames_pm.Asim[frames_pm.Group == 'Endogeno'],\n",
    "           frames_pm.Psi[frames_pm.Group == 'Endogeno'],'o',label = 'Endogeno')\n",
    "plt.plot(frames_pm.Asim[frames_pm.Group == 'exogeno'],\n",
    "           frames_pm.Psi[frames_pm.Group == 'exogeno'],'o',label = 'exogeno')\n",
    "plt.title('PM Noise',fontsize=14)\n",
    "plt.ylim(-0.3,1)\n",
    "#plt.xlim(-2,27)\n",
    "plt.ylabel('Psi')\n",
    "plt.xlabel('Asim')\n",
    "plt.grid('on',linestyle='--')\n",
    "plt.legend()\n",
    "\n",
    "plt.subplot(2,2,4)\n",
    "plt.plot(frames_chaos.Asim[frames_chaos.Group == 'Henon'],\n",
    "           frames_chaos.Psi[frames_chaos.Group == 'Henon'],'o',label = 'Henon')\n",
    "plt.plot(frames_chaos.Asim[frames_chaos.Group == 'Logistica'],\n",
    "           frames_chaos.Psi[frames_chaos.Group == 'Logistica'],'o',label = 'Logistica')\n",
    "plt.title('Chaos Noise',fontsize=14)\n",
    "plt.ylim(-0.3,1)\n",
    "#plt.xlim(-2,27)\n",
    "plt.xlabel('Asim')\n",
    "plt.grid('on',linestyle='--')\n",
    "plt.legend()"
   ]
  }
 ],
 "metadata": {
  "kernelspec": {
   "display_name": "Python 3",
   "language": "python",
   "name": "python3"
  },
  "language_info": {
   "codemirror_mode": {
    "name": "ipython",
    "version": 3
   },
   "file_extension": ".py",
   "mimetype": "text/x-python",
   "name": "python",
   "nbconvert_exporter": "python",
   "pygments_lexer": "ipython3",
   "version": "3.8.2"
  }
 },
 "nbformat": 4,
 "nbformat_minor": 4
}
